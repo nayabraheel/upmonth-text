{
  "nbformat": 4,
  "nbformat_minor": 0,
  "metadata": {
    "colab": {
      "name": "10 - Extract text from documents",
      "provenance": [],
      "collapsed_sections": []
    },
    "kernelspec": {
      "name": "python3",
      "display_name": "Python 3"
    }
  },
  "cells": [
    {
      "source": [
        "%%capture\n",
        "!pip install git+https://github.com/nayabraheel/upmonth\n",
        "\n",
        "# Get test data\n",
        "!wget -N https://github.com/nayabraheel/upmonth/raw/main/examples/PersonalFinances.pdf\n",
        "\n",
        "# Install NLTK\n",
        "import nltk\n",
        "nltk.download('punkt')"
      ],
      "cell_type": "code",
      "metadata": {
        "id": "XMQuuun2R06J"
      },
      "execution_count": null,
      "outputs": []
    },
    {
      "source": [
        "%%capture\n",
        "\n",
        "from upmonth.pipeline import Textractor\n",
        "\n",
        "# Create textractor model\n",
        "textractor = Textractor()"
      ],
      "cell_type": "code",
      "metadata": {
        "id": "nTDwXOUeTH2-"
      },
      "execution_count": null,
      "outputs": []
    },
    {
      "cell_type": "markdown",
      "metadata": {
        "id": "-vGR_piwZZO6"
      },
      "source": [
        "# Extract text\n",
        "\n",
        "The example below shows how to extract text from a file."
      ]
    },
    {
      "source": [
        "textractor(\"PersonalFinances.pdf\")"
      ],
      "cell_type": "code",
      "metadata": {
        "colab": {
          "base_uri": "https://localhost:8080/",
          "height": 107
        },
        "id": "-K2YJJzsVtfq",
        "outputId": "191307cb-8b1c-4121-ffe4-c0a9213975e8"
      },
      "execution_count": null,
      "outputs": []
    },
    {
      "cell_type": "markdown",
      "metadata": {
        "id": "1w2bhBCPOUdu"
      },
      "source": [
        "# Extract sentences"
      ]
    },
    {
      "source": [
        "textractor = Textractor(sentences=True)\n",
        "textractor(\"PersonalFinances.pdf\")"
      ],
      "cell_type": "code",
      "metadata": {
        "colab": {
          "base_uri": "https://localhost:8080/"
        },
        "id": "PKZVK5vuOTqB",
        "outputId": "bf43ba19-3813-4bf2-8976-3e69c337cbca"
      },
      "execution_count": null,
      "outputs": []
    },
    {
      "cell_type": "markdown",
      "metadata": {
        "id": "z1H8XYkaSoP4"
      },
      "source": [
        "# Extract paragraphs"
      ]
    },
    {
      "source": [
        "textractor = Textractor(paragraphs=True)\n",
        "textractor(\"PersonalFinances.pdf\")"
      ],
      "cell_type": "code",
      "metadata": {
        "colab": {
          "base_uri": "https://localhost:8080/"
        },
        "id": "9VUito4ISoAe",
        "outputId": "4918e01f-11fb-4099-b9fb-d9f6b39b252c"
      },
      "execution_count": null,
      "outputs": []
    }
  ]
}